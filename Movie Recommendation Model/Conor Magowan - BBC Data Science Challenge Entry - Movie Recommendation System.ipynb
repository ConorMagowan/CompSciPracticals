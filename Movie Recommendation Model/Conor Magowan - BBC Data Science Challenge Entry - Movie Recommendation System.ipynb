{
 "cells": [
  {
   "cell_type": "markdown",
   "metadata": {},
   "source": [
    "This is my entry for the BBC Data Science Challenge. I have decided to construct a movie recommendation system using the movielens-latest-small-dateset found on https://grouplens.org/datasets/movielens/"
   ]
  },
  {
   "cell_type": "markdown",
   "metadata": {},
   "source": [
    "### 1. Preparing the Data"
   ]
  },
  {
   "cell_type": "markdown",
   "metadata": {},
   "source": [
    "Our first step is to import the libraries that we will be using, load in the data as required, and check it seems sensible."
   ]
  },
  {
   "cell_type": "code",
   "execution_count": 360,
   "metadata": {},
   "outputs": [],
   "source": [
    "%matplotlib inline\n",
    "import pandas as pd\n",
    "import numpy as np\n",
    "import matplotlib.pyplot as plt\n",
    "import seaborn as sns\n",
    "from scipy import stats\n",
    "from ast import literal_eval\n",
    "from sklearn.feature_extraction.text import TfidfVectorizer, CountVectorizer\n",
    "from sklearn.metrics.pairwise import linear_kernel, cosine_similarity"
   ]
  },
  {
   "cell_type": "code",
   "execution_count": 361,
   "metadata": {},
   "outputs": [
    {
     "data": {
      "text/html": [
       "<div>\n",
       "<style scoped>\n",
       "    .dataframe tbody tr th:only-of-type {\n",
       "        vertical-align: middle;\n",
       "    }\n",
       "\n",
       "    .dataframe tbody tr th {\n",
       "        vertical-align: top;\n",
       "    }\n",
       "\n",
       "    .dataframe thead th {\n",
       "        text-align: right;\n",
       "    }\n",
       "</style>\n",
       "<table border=\"1\" class=\"dataframe\">\n",
       "  <thead>\n",
       "    <tr style=\"text-align: right;\">\n",
       "      <th></th>\n",
       "      <th>userId</th>\n",
       "      <th>movieId</th>\n",
       "      <th>rating</th>\n",
       "      <th>timestamp</th>\n",
       "    </tr>\n",
       "  </thead>\n",
       "  <tbody>\n",
       "    <tr>\n",
       "      <th>0</th>\n",
       "      <td>1</td>\n",
       "      <td>1</td>\n",
       "      <td>4.0</td>\n",
       "      <td>964982703</td>\n",
       "    </tr>\n",
       "    <tr>\n",
       "      <th>1</th>\n",
       "      <td>1</td>\n",
       "      <td>3</td>\n",
       "      <td>4.0</td>\n",
       "      <td>964981247</td>\n",
       "    </tr>\n",
       "    <tr>\n",
       "      <th>2</th>\n",
       "      <td>1</td>\n",
       "      <td>6</td>\n",
       "      <td>4.0</td>\n",
       "      <td>964982224</td>\n",
       "    </tr>\n",
       "    <tr>\n",
       "      <th>3</th>\n",
       "      <td>1</td>\n",
       "      <td>47</td>\n",
       "      <td>5.0</td>\n",
       "      <td>964983815</td>\n",
       "    </tr>\n",
       "    <tr>\n",
       "      <th>4</th>\n",
       "      <td>1</td>\n",
       "      <td>50</td>\n",
       "      <td>5.0</td>\n",
       "      <td>964982931</td>\n",
       "    </tr>\n",
       "  </tbody>\n",
       "</table>\n",
       "</div>"
      ],
      "text/plain": [
       "   userId  movieId  rating  timestamp\n",
       "0       1        1     4.0  964982703\n",
       "1       1        3     4.0  964981247\n",
       "2       1        6     4.0  964982224\n",
       "3       1       47     5.0  964983815\n",
       "4       1       50     5.0  964982931"
      ]
     },
     "execution_count": 361,
     "metadata": {},
     "output_type": "execute_result"
    }
   ],
   "source": [
    "links_df = pd.read_csv('./links.csv')\n",
    "movies_df = pd.read_csv('./movies.csv')\n",
    "ratings_df = pd.read_csv('./ratings.csv')\n",
    "tags_df = pd.read_csv('./tags.csv')\n",
    "\n",
    "ratings_df.head()"
   ]
  },
  {
   "cell_type": "markdown",
   "metadata": {},
   "source": [
    "### 2. Trying out Collaborative Filtering Method"
   ]
  },
  {
   "cell_type": "markdown",
   "metadata": {},
   "source": [
    "We are then going to try using the Surprise library, in particular SVD (Singular Value Decomposition) to predict how a user will rate a given movie. We will then be able to recommend new movies to the user, thus creating a recommendation system."
   ]
  },
  {
   "cell_type": "code",
   "execution_count": 362,
   "metadata": {},
   "outputs": [],
   "source": [
    "from surprise import Reader, Dataset, SVD, evaluate\n",
    "from surprise.model_selection import cross_validate"
   ]
  },
  {
   "cell_type": "code",
   "execution_count": 363,
   "metadata": {},
   "outputs": [],
   "source": [
    "reader = Reader()"
   ]
  },
  {
   "cell_type": "markdown",
   "metadata": {},
   "source": [
    "We can cross-validate the model as follows:"
   ]
  },
  {
   "cell_type": "code",
   "execution_count": 364,
   "metadata": {},
   "outputs": [],
   "source": [
    "data = Dataset.load_from_df(ratings_df[['userId', 'movieId', 'rating']], reader)\n",
    "data.split(n_folds=5)"
   ]
  },
  {
   "cell_type": "code",
   "execution_count": 365,
   "metadata": {},
   "outputs": [
    {
     "name": "stdout",
     "output_type": "stream",
     "text": [
      "Evaluating RMSE, MAE of algorithm SVD on 5 split(s).\n",
      "\n",
      "                  Fold 1  Fold 2  Fold 3  Fold 4  Fold 5  Mean    Std     \n",
      "RMSE (testset)    0.8714  0.8743  0.8721  0.8781  0.8764  0.8745  0.0025  \n",
      "MAE (testset)     0.6699  0.6744  0.6704  0.6723  0.6731  0.6720  0.0017  \n",
      "Fit time          6.67    6.66    6.67    6.57    6.79    6.67    0.07    \n",
      "Test time         0.22    0.91    0.34    0.39    0.18    0.41    0.26    \n"
     ]
    },
    {
     "data": {
      "text/plain": [
       "{'test_rmse': array([0.87140615, 0.87433554, 0.87208829, 0.87810223, 0.87635016]),\n",
       " 'test_mae': array([0.66991945, 0.67435171, 0.67039794, 0.67228652, 0.67305869]),\n",
       " 'fit_time': (6.66949987411499,\n",
       "  6.664545059204102,\n",
       "  6.674649953842163,\n",
       "  6.568749904632568,\n",
       "  6.794766902923584),\n",
       " 'test_time': (0.21829771995544434,\n",
       "  0.9129374027252197,\n",
       "  0.34131789207458496,\n",
       "  0.3943631649017334,\n",
       "  0.1845228672027588)}"
      ]
     },
     "execution_count": 365,
     "metadata": {},
     "output_type": "execute_result"
    }
   ],
   "source": [
    "algo = SVD()\n",
    "cross_validate(algo, data, measures=['RMSE', 'MAE'], cv=5, verbose=True)"
   ]
  },
  {
   "cell_type": "markdown",
   "metadata": {},
   "source": [
    "We can now build up a training set for the data and fit an algorithm to our data."
   ]
  },
  {
   "cell_type": "code",
   "execution_count": 366,
   "metadata": {},
   "outputs": [
    {
     "data": {
      "text/plain": [
       "<surprise.prediction_algorithms.matrix_factorization.SVD at 0x1a26003ac8>"
      ]
     },
     "execution_count": 366,
     "metadata": {},
     "output_type": "execute_result"
    }
   ],
   "source": [
    "trainset = data.build_full_trainset()\n",
    "algo.fit(trainset)"
   ]
  },
  {
   "cell_type": "markdown",
   "metadata": {},
   "source": [
    "Now we are able to construct a *get_recommendations* function that, given a userId, outputs 10 of their preferred movies based on the ratings they gave (to get a sense of the movies they like) and then also 10 recommended movies from our algorithm."
   ]
  },
  {
   "cell_type": "code",
   "execution_count": 388,
   "metadata": {},
   "outputs": [],
   "source": [
    "def get_top_10_based_on_ratings(userId):\n",
    "    \n",
    "    specific_user_ratings = ratings_df[ratings_df['userId'] == userId]\n",
    "    \n",
    "    top_rated_movies = specific_user_ratings[specific_user_ratings['rating'] == 5.0]\n",
    "    \n",
    "    top_movieIds = list(top_rated_movies.head(10).movieId)\n",
    "\n",
    "    print(movies_df[movies_df['movieId'].isin(top_movieIds)].title.head(10))"
   ]
  },
  {
   "cell_type": "code",
   "execution_count": 389,
   "metadata": {},
   "outputs": [],
   "source": [
    "def get_top_10_predicted_from_algorithm(userId):\n",
    "    \n",
    "    ratings = [algo.predict(userId,i).est for i in movies_df['movieId']]\n",
    "    \n",
    "    movies_df['predicted_ratings'] = ratings\n",
    "    \n",
    "    predicted = movies_df.sort_values(by=['predicted_ratings'], ascending=False)\n",
    "\n",
    "    print(predicted.title.head(10))"
   ]
  },
  {
   "cell_type": "code",
   "execution_count": 411,
   "metadata": {},
   "outputs": [],
   "source": [
    "def get_recommendations(userId):\n",
    "    \n",
    "    print('Users Favourite Films:')\n",
    "    \n",
    "    get_top_10_based_on_ratings(userId)\n",
    "    \n",
    "    print('-'*40)\n",
    "    \n",
    "    print('Recommended Films:')\n",
    "    \n",
    "    get_top_10_predicted_from_algorithm(userId)"
   ]
  },
  {
   "cell_type": "code",
   "execution_count": 412,
   "metadata": {},
   "outputs": [
    {
     "name": "stdout",
     "output_type": "stream",
     "text": [
      "Users Favourite Films:\n",
      "15                         Casino (1995)\n",
      "257                  Pulp Fiction (1994)\n",
      "277     Shawshank Redemption, The (1994)\n",
      "398                 Fugitive, The (1993)\n",
      "461              Schindler's List (1993)\n",
      "510     Silence of the Lambs, The (1991)\n",
      "594                       Twister (1996)\n",
      "659                Godfather, The (1972)\n",
      "908         To Kill a Mockingbird (1962)\n",
      "1284            Good Will Hunting (1997)\n",
      "Name: title, dtype: object\n",
      "----------------------------------------\n",
      "Recommended Films:\n",
      "1616                  Rosemary's Baby (1968)\n",
      "2582     Guess Who's Coming to Dinner (1967)\n",
      "8466                         Whiplash (2014)\n",
      "949     Bridge on the River Kwai, The (1957)\n",
      "694                        Casablanca (1942)\n",
      "461                  Schindler's List (1993)\n",
      "975                    Cool Hand Luke (1967)\n",
      "946                     Graduate, The (1967)\n",
      "686                       Rear Window (1954)\n",
      "961                 Great Escape, The (1963)\n",
      "Name: title, dtype: object\n"
     ]
    }
   ],
   "source": [
    "get_recommendations(413)"
   ]
  },
  {
   "cell_type": "markdown",
   "metadata": {},
   "source": [
    "#### Why did you pick the specific technique(s) you used? \n",
    "\n",
    "There is a range of techniques available for creating recommendation systems. I decided to opt for a collaborative filtering approach, as it is known to work well for Netflix Recommendation Systems. More specifically, I tried out using SVD (singular value decomposition - a matrix factorization technique) as it leverages a latent factor model to capture the similarities between users and items. Essentially, we want to turn the recommendation problem into an optimization problem, and the leading algorithm for this application is SVD (see http://surpriselib.com/ for testing various algorithms). \n",
    "\n",
    "#### What parameters matter in this case? \n",
    "\n",
    "In this case, the parameters of interest are the movieId's, ratings and userId's. This is because we are trying to predict which users behave similarly to others.\n",
    "\n",
    "#### What assumptions does the model make about the data that it is being trained on? \n",
    "\n",
    "Users who have similar preferences in the past are likely to have similar preferences in the future. It is this assumption which allows us to take a user's history and extrapolate into their future and predict items which they might enjoy.\n",
    "\n",
    "#### How may the model adapt over time and continue to provide useful predictions?\n",
    "\n",
    "As movie interests change, model could be adapted to add increased weight to ratings given out recently (can check this by checking the timestamp value in the dataframe). This way, as the interests of certain individuals change over time, the system captures the changing interest and the recommendations are adjusted and improved as time progresses. \n",
    "\n",
    "We could also incorporate item-based collaborative filtering into our model to create a hybrid. This would furthure ensure that the model doesn't break down if peoples preferences change."
   ]
  },
  {
   "cell_type": "markdown",
   "metadata": {},
   "source": [
    "### 3. Evaluation"
   ]
  },
  {
   "cell_type": "markdown",
   "metadata": {},
   "source": [
    "#### Provide an evaluation of how your model performed – did it perform well?"
   ]
  },
  {
   "cell_type": "markdown",
   "metadata": {},
   "source": [
    "Yes the model seems to have performed well, it does offer a good recommendation to users in my opinion of looking at the results for various customers. \n",
    "Mean RMSE (testset): 0.8745 from the cross-validation data above."
   ]
  }
 ],
 "metadata": {
  "kernelspec": {
   "display_name": "Python 3",
   "language": "python",
   "name": "python3"
  },
  "language_info": {
   "codemirror_mode": {
    "name": "ipython",
    "version": 3
   },
   "file_extension": ".py",
   "mimetype": "text/x-python",
   "name": "python",
   "nbconvert_exporter": "python",
   "pygments_lexer": "ipython3",
   "version": "3.6.5"
  }
 },
 "nbformat": 4,
 "nbformat_minor": 2
}
